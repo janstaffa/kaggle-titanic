{
 "cells": [
  {
   "cell_type": "markdown",
   "metadata": {},
   "source": [
    "# Kaggle Titanic competition\n",
    "Linear regression"
   ]
  },
  {
   "cell_type": "markdown",
   "metadata": {},
   "source": [
    "### Install and import packages"
   ]
  },
  {
   "cell_type": "code",
   "execution_count": null,
   "metadata": {},
   "outputs": [],
   "source": [
    "%pip install pandas numpy tensorflow"
   ]
  },
  {
   "cell_type": "code",
   "execution_count": 192,
   "metadata": {},
   "outputs": [],
   "source": [
    "import pandas as pd\n",
    "import numpy as np\n",
    "import matplotlib.pyplot as plt\n",
    "\n",
    "import tensorflow as tf\n",
    "from tensorflow import keras\n",
    "from tensorflow.keras import layers"
   ]
  },
  {
   "cell_type": "markdown",
   "metadata": {},
   "source": [
    "### Open input data"
   ]
  },
  {
   "cell_type": "code",
   "execution_count": 1012,
   "metadata": {},
   "outputs": [],
   "source": [
    "df = pd.read_csv(\"data/train.csv\")"
   ]
  },
  {
   "cell_type": "markdown",
   "metadata": {},
   "source": [
    "### Engineer new features"
   ]
  },
  {
   "cell_type": "code",
   "execution_count": 1013,
   "metadata": {},
   "outputs": [],
   "source": [
    "decks = [\"A\", \"B\", \"C\", \"D\", \"E\", \"F\", \"G\"]\n",
    "def extract_deck_from_cabin(cabin):\n",
    "    if pd.isna(cabin):\n",
    "        return np.nan\n",
    "\n",
    "    return cabin[0] if cabin[0] in decks else np.nan\n",
    "\n",
    "def engineer_features(dataframe):\n",
    "    new_df = dataframe.copy()\n",
    "    new_df[\"Deck\"] = new_df[\"Cabin\"].map(extract_deck_from_cabin)\n",
    "    new_df[\"FamilySize\"] = new_df[\"SibSp\"] + dataframe[\"Parch\"]\n",
    "    \n",
    "    return new_df"
   ]
  },
  {
   "cell_type": "markdown",
   "metadata": {},
   "source": [
    "### Prepare data"
   ]
  },
  {
   "cell_type": "code",
   "execution_count": 1014,
   "metadata": {},
   "outputs": [],
   "source": [
    "deck_dict = {\n",
    "    \"A\": 1,\n",
    "    \"B\": 2,\n",
    "    \"C\": 3,\n",
    "    \"D\": 4,\n",
    "    \"E\": 5,\n",
    "    \"F\": 6,\n",
    "    \"G\": 7,\n",
    "    np.nan: 0\n",
    "}\n",
    "\n",
    "def port_map(port):\n",
    "    match port:\n",
    "        case \"S\":\n",
    "            return 1\n",
    "        case \"C\":\n",
    "            return 2\n",
    "        case \"Q\":\n",
    "            return 3\n",
    "        case _:\n",
    "            return None\n",
    "        \n",
    "def prepare_data(dataframe):\n",
    "    new_df = dataframe.copy()\n",
    "    new_df['Sex'] = new_df['Sex'].map(lambda x: 1 if x == 'female' else 0)\n",
    "\n",
    "    new_df['Deck'] = new_df['Deck'].map(lambda x: deck_dict[x])\n",
    "        \n",
    "    new_df['Embarked'] = new_df['Embarked'].map(lambda x: port_map(x))\n",
    " \n",
    "    return new_df"
   ]
  },
  {
   "cell_type": "code",
   "execution_count": null,
   "metadata": {},
   "outputs": [],
   "source": [
    "prepared_df = prepare_data(engineer_features(df))\n",
    "\n",
    "# Select data used for training (tried sets of data)\n",
    "dataset = prepared_df[['Pclass', 'Sex', 'Age', 'SibSp', 'Parch', 'Fare', 'Deck', 'Embarked', 'Survived']]\n",
    "# dataset = prepared_df[['Pclass', 'Sex', 'Age', 'SibSp', 'Parch', 'Fare', 'Deck', 'Survived']]\n",
    "# dataset = prepared_df[['Pclass', 'Sex', 'Age', 'FamilySize', 'Fare', 'Deck', 'Survived']]\n",
    "# dataset = prepared_df[['Pclass', 'Sex', 'Age', 'SibSp', 'Parch', 'Fare', 'Survived']]\n",
    "# dataset = prepared_df[['Pclass', 'Sex', 'Age', 'SibSp', 'Parch', 'Deck', 'Survived']]\n",
    "# dataset = prepared_df[['Pclass', 'Sex', 'Age', 'Survived']]\n",
    "\n",
    "# Remove rows with empty values\n",
    "dataset = dataset.dropna()\n",
    "\n",
    "\n",
    "# prepared_df.head()"
   ]
  },
  {
   "cell_type": "code",
   "execution_count": 1016,
   "metadata": {},
   "outputs": [
    {
     "data": {
      "text/html": [
       "<div>\n",
       "<style scoped>\n",
       "    .dataframe tbody tr th:only-of-type {\n",
       "        vertical-align: middle;\n",
       "    }\n",
       "\n",
       "    .dataframe tbody tr th {\n",
       "        vertical-align: top;\n",
       "    }\n",
       "\n",
       "    .dataframe thead th {\n",
       "        text-align: right;\n",
       "    }\n",
       "</style>\n",
       "<table border=\"1\" class=\"dataframe\">\n",
       "  <thead>\n",
       "    <tr style=\"text-align: right;\">\n",
       "      <th></th>\n",
       "      <th>Pclass</th>\n",
       "      <th>Sex</th>\n",
       "      <th>Age</th>\n",
       "      <th>SibSp</th>\n",
       "      <th>Parch</th>\n",
       "      <th>Fare</th>\n",
       "      <th>Deck</th>\n",
       "      <th>Survived</th>\n",
       "    </tr>\n",
       "  </thead>\n",
       "  <tbody>\n",
       "    <tr>\n",
       "      <th>885</th>\n",
       "      <td>3</td>\n",
       "      <td>1</td>\n",
       "      <td>39.0</td>\n",
       "      <td>0</td>\n",
       "      <td>5</td>\n",
       "      <td>29.125</td>\n",
       "      <td>0</td>\n",
       "      <td>0</td>\n",
       "    </tr>\n",
       "    <tr>\n",
       "      <th>886</th>\n",
       "      <td>2</td>\n",
       "      <td>0</td>\n",
       "      <td>27.0</td>\n",
       "      <td>0</td>\n",
       "      <td>0</td>\n",
       "      <td>13.000</td>\n",
       "      <td>0</td>\n",
       "      <td>0</td>\n",
       "    </tr>\n",
       "    <tr>\n",
       "      <th>887</th>\n",
       "      <td>1</td>\n",
       "      <td>1</td>\n",
       "      <td>19.0</td>\n",
       "      <td>0</td>\n",
       "      <td>0</td>\n",
       "      <td>30.000</td>\n",
       "      <td>2</td>\n",
       "      <td>1</td>\n",
       "    </tr>\n",
       "    <tr>\n",
       "      <th>889</th>\n",
       "      <td>1</td>\n",
       "      <td>0</td>\n",
       "      <td>26.0</td>\n",
       "      <td>0</td>\n",
       "      <td>0</td>\n",
       "      <td>30.000</td>\n",
       "      <td>3</td>\n",
       "      <td>1</td>\n",
       "    </tr>\n",
       "    <tr>\n",
       "      <th>890</th>\n",
       "      <td>3</td>\n",
       "      <td>0</td>\n",
       "      <td>32.0</td>\n",
       "      <td>0</td>\n",
       "      <td>0</td>\n",
       "      <td>7.750</td>\n",
       "      <td>0</td>\n",
       "      <td>0</td>\n",
       "    </tr>\n",
       "  </tbody>\n",
       "</table>\n",
       "</div>"
      ],
      "text/plain": [
       "     Pclass  Sex   Age  SibSp  Parch    Fare  Deck  Survived\n",
       "885       3    1  39.0      0      5  29.125     0         0\n",
       "886       2    0  27.0      0      0  13.000     0         0\n",
       "887       1    1  19.0      0      0  30.000     2         1\n",
       "889       1    0  26.0      0      0  30.000     3         1\n",
       "890       3    0  32.0      0      0   7.750     0         0"
      ]
     },
     "execution_count": 1016,
     "metadata": {},
     "output_type": "execute_result"
    }
   ],
   "source": [
    "\n",
    "dataset.tail()"
   ]
  },
  {
   "cell_type": "code",
   "execution_count": 1017,
   "metadata": {},
   "outputs": [],
   "source": [
    "train_data = dataset.sample(frac=0.80)\n",
    "test_data = dataset.drop(train_data.index)"
   ]
  },
  {
   "cell_type": "code",
   "execution_count": 1018,
   "metadata": {},
   "outputs": [],
   "source": [
    "# Split features from labels\n",
    "train_features = train_data.copy()\n",
    "test_features = test_data.copy()\n",
    "\n",
    "train_labels = train_features.pop(\"Survived\")\n",
    "test_labels = test_features.pop(\"Survived\")"
   ]
  },
  {
   "cell_type": "markdown",
   "metadata": {},
   "source": [
    "### Build model"
   ]
  },
  {
   "cell_type": "code",
   "execution_count": 1019,
   "metadata": {},
   "outputs": [],
   "source": [
    "normalizer = layers.Normalization()\n",
    "normalizer.adapt(np.array(train_features))\n",
    "\n",
    "\n",
    "model = keras.Sequential()\n",
    "\n",
    "model.add(layers.InputLayer(shape=(train_features.shape[1],)))\n",
    "\n",
    "model.add(normalizer)\n",
    "\n",
    "model.add(layers.Dense(units=16, activation='relu'))\n",
    "# model.add(layers.Dense(units=32, activation='relu'))\n",
    "model.add(layers.Dense(1, activation='sigmoid'))"
   ]
  },
  {
   "cell_type": "code",
   "execution_count": 1020,
   "metadata": {},
   "outputs": [],
   "source": [
    "adam = keras.optimizers.Adam(learning_rate=0.001)"
   ]
  },
  {
   "cell_type": "code",
   "execution_count": 1021,
   "metadata": {},
   "outputs": [],
   "source": [
    "model.compile(loss='binary_crossentropy', optimizer=adam, metrics=[\"accuracy\"])"
   ]
  },
  {
   "cell_type": "markdown",
   "metadata": {},
   "source": [
    "### Train"
   ]
  },
  {
   "cell_type": "code",
   "execution_count": null,
   "metadata": {},
   "outputs": [],
   "source": [
    "model.fit(train_features, train_labels, epochs=150, batch_size=32)"
   ]
  },
  {
   "cell_type": "markdown",
   "metadata": {},
   "source": [
    "### Evaluate"
   ]
  },
  {
   "cell_type": "code",
   "execution_count": 1023,
   "metadata": {},
   "outputs": [
    {
     "name": "stdout",
     "output_type": "stream",
     "text": [
      "\u001b[1m5/5\u001b[0m \u001b[32m━━━━━━━━━━━━━━━━━━━━\u001b[0m\u001b[37m\u001b[0m \u001b[1m0s\u001b[0m 2ms/step - accuracy: 0.7944 - loss: 0.5366  \n",
      "[0.450256884098053, 0.8181818127632141]\n",
      "Loss =  0.450256884098053\n",
      "Accuracy =  0.8181818127632141\n"
     ]
    }
   ],
   "source": [
    "loss_and_metrics = model.evaluate(test_features, test_labels)\n",
    "print(loss_and_metrics)\n",
    "print('Loss = ',loss_and_metrics[0])\n",
    "print('Accuracy = ',loss_and_metrics[1])"
   ]
  },
  {
   "cell_type": "markdown",
   "metadata": {},
   "source": [
    "### Run predictions"
   ]
  },
  {
   "cell_type": "code",
   "execution_count": 1024,
   "metadata": {},
   "outputs": [],
   "source": [
    "submit_df = pd.read_csv(\"data/test.csv\")"
   ]
  },
  {
   "cell_type": "code",
   "execution_count": 1025,
   "metadata": {},
   "outputs": [
    {
     "data": {
      "text/html": [
       "<div>\n",
       "<style scoped>\n",
       "    .dataframe tbody tr th:only-of-type {\n",
       "        vertical-align: middle;\n",
       "    }\n",
       "\n",
       "    .dataframe tbody tr th {\n",
       "        vertical-align: top;\n",
       "    }\n",
       "\n",
       "    .dataframe thead th {\n",
       "        text-align: right;\n",
       "    }\n",
       "</style>\n",
       "<table border=\"1\" class=\"dataframe\">\n",
       "  <thead>\n",
       "    <tr style=\"text-align: right;\">\n",
       "      <th></th>\n",
       "      <th>Pclass</th>\n",
       "      <th>Sex</th>\n",
       "      <th>Age</th>\n",
       "      <th>SibSp</th>\n",
       "      <th>Parch</th>\n",
       "      <th>Fare</th>\n",
       "      <th>Deck</th>\n",
       "    </tr>\n",
       "  </thead>\n",
       "  <tbody>\n",
       "    <tr>\n",
       "      <th>409</th>\n",
       "      <td>3</td>\n",
       "      <td>1</td>\n",
       "      <td>3.0</td>\n",
       "      <td>1</td>\n",
       "      <td>1</td>\n",
       "      <td>13.775</td>\n",
       "      <td>0</td>\n",
       "    </tr>\n",
       "    <tr>\n",
       "      <th>411</th>\n",
       "      <td>1</td>\n",
       "      <td>1</td>\n",
       "      <td>37.0</td>\n",
       "      <td>1</td>\n",
       "      <td>0</td>\n",
       "      <td>90.000</td>\n",
       "      <td>3</td>\n",
       "    </tr>\n",
       "    <tr>\n",
       "      <th>412</th>\n",
       "      <td>3</td>\n",
       "      <td>1</td>\n",
       "      <td>28.0</td>\n",
       "      <td>0</td>\n",
       "      <td>0</td>\n",
       "      <td>7.775</td>\n",
       "      <td>0</td>\n",
       "    </tr>\n",
       "    <tr>\n",
       "      <th>414</th>\n",
       "      <td>1</td>\n",
       "      <td>1</td>\n",
       "      <td>39.0</td>\n",
       "      <td>0</td>\n",
       "      <td>0</td>\n",
       "      <td>108.900</td>\n",
       "      <td>3</td>\n",
       "    </tr>\n",
       "    <tr>\n",
       "      <th>415</th>\n",
       "      <td>3</td>\n",
       "      <td>0</td>\n",
       "      <td>38.5</td>\n",
       "      <td>0</td>\n",
       "      <td>0</td>\n",
       "      <td>7.250</td>\n",
       "      <td>0</td>\n",
       "    </tr>\n",
       "  </tbody>\n",
       "</table>\n",
       "</div>"
      ],
      "text/plain": [
       "     Pclass  Sex   Age  SibSp  Parch     Fare  Deck\n",
       "409       3    1   3.0      1      1   13.775     0\n",
       "411       1    1  37.0      1      0   90.000     3\n",
       "412       3    1  28.0      0      0    7.775     0\n",
       "414       1    1  39.0      0      0  108.900     3\n",
       "415       3    0  38.5      0      0    7.250     0"
      ]
     },
     "execution_count": 1025,
     "metadata": {},
     "output_type": "execute_result"
    }
   ],
   "source": [
    "# Prepare data\n",
    "submit_df = prepare_data(engineer_features(submit_df))\n",
    "submit_dataset = submit_df[np.array([\"PassengerId\", *train_features.columns])]\n",
    "submit_dataset = submit_dataset.dropna()\n",
    "\n",
    "passengerIds = submit_dataset.pop('PassengerId')\n",
    "\n",
    "submit_dataset.tail()"
   ]
  },
  {
   "cell_type": "code",
   "execution_count": null,
   "metadata": {},
   "outputs": [],
   "source": [
    "predicted = model.predict(submit_dataset)\n",
    "\n",
    "predictedPassengers = pd.DataFrame(columns=[\"PassengerId\", \"Survived\"])\n",
    "predictedPassengers.set_index(\"PassengerId\")\n",
    "predictedPassengers[\"PassengerId\"] = passengerIds\n",
    "predictedPassengers[\"Survived\"] = predicted.round()\n",
    "\n",
    "# predictedPassengers.tail(30)"
   ]
  },
  {
   "cell_type": "code",
   "execution_count": 1027,
   "metadata": {},
   "outputs": [],
   "source": [
    "results = submit_df[['PassengerId']].copy()\n",
    "results[\"Survived\"] = 0\n",
    "\n",
    "results.update(predictedPassengers)\n",
    "# results.tail(50)"
   ]
  },
  {
   "cell_type": "code",
   "execution_count": 1028,
   "metadata": {},
   "outputs": [],
   "source": [
    "results.to_csv(\"result.csv\", sep=\",\", index=False)"
   ]
  }
 ],
 "metadata": {
  "kernelspec": {
   "display_name": ".venv",
   "language": "python",
   "name": "python3"
  },
  "language_info": {
   "codemirror_mode": {
    "name": "ipython",
    "version": 3
   },
   "file_extension": ".py",
   "mimetype": "text/x-python",
   "name": "python",
   "nbconvert_exporter": "python",
   "pygments_lexer": "ipython3",
   "version": "3.11.9"
  }
 },
 "nbformat": 4,
 "nbformat_minor": 2
}
